{
  "nbformat": 4,
  "nbformat_minor": 0,
  "metadata": {
    "colab": {
      "provenance": []
    },
    "kernelspec": {
      "name": "python3",
      "display_name": "Python 3"
    },
    "language_info": {
      "name": "python"
    }
  },
  "cells": [
    {
      "cell_type": "code",
      "execution_count": null,
      "metadata": {
        "id": "CgxDKSSzDX0j"
      },
      "outputs": [],
      "source": [
        "mobile_data = {\n",
        "    \"Name\": \"xyz\",\n",
        "    \"Mobile\": \"Iphone\",\n",
        "    \"Mobileid\": 23,\n",
        "    \"Mapping\": {\n",
        "        \"Imei\": 12344567777,\n",
        "        \"Specification\": {\n",
        "            \"Model\": \"Apple 12\",\n",
        "            \"OS Version\": 17.0,\n",
        "        },\n",
        "        \"Country\": \"us\",\n",
        "        \"Product_name\": \"iphone 12\"\n",
        "    }\n",
        "}"
      ]
    },
    {
      "cell_type": "code",
      "source": [
        "import pandas as pd"
      ],
      "metadata": {
        "id": "TE40dYarDZbl"
      },
      "execution_count": null,
      "outputs": []
    },
    {
      "cell_type": "code",
      "source": [
        "print (mobile_data[\"Mapping\"][\"Product_name\"])"
      ],
      "metadata": {
        "colab": {
          "base_uri": "https://localhost:8080/"
        },
        "id": "GEik7QJzEhh-",
        "outputId": "e0c268b7-4108-4c0a-b6da-2f78a6809ae7"
      },
      "execution_count": null,
      "outputs": [
        {
          "output_type": "stream",
          "name": "stdout",
          "text": [
            "iphone 12\n"
          ]
        }
      ]
    },
    {
      "cell_type": "code",
      "source": [
        "print (mobile_data[\"Mapping\"])"
      ],
      "metadata": {
        "colab": {
          "base_uri": "https://localhost:8080/"
        },
        "id": "mz3W3QIVDinv",
        "outputId": "653b7e67-42de-49af-a4fa-3cdfce52c633"
      },
      "execution_count": null,
      "outputs": [
        {
          "output_type": "stream",
          "name": "stdout",
          "text": [
            "{'Imei': 12344567777, 'Specification': {'Model': 'Apple 12', 'OS Version': 17.0}, 'Country': 'us', 'Product_name': 'iphone 12'}\n"
          ]
        }
      ]
    },
    {
      "cell_type": "code",
      "source": [
        "mobile_specs = []\n",
        "\n",
        "mapping = mobile_data[\"Mapping\"]\n",
        "\n",
        "\n",
        "\n",
        "for key, value in mapping.items():\n",
        "  if key == \"Imei\":\n",
        "            mobile_specs.append((key, value))\n",
        "\n",
        "for key, value in mobile_data[\"Mapping\"][\"Specification\"].items():\n",
        "  if key == \"Model\" or key == \"OS Version\":\n",
        "            mobile_specs.append((key, value))\n",
        "\n",
        "for key, value in mapping.items():\n",
        "  if key == \"Country\":\n",
        "            mobile_specs.append((key, value))\n",
        "\n",
        "for key, value in mobile_data[\"Mapping\"].items():\n",
        "  if key == \"Product_name\" :\n",
        "    mobile_specs.append((key, value))\n",
        "\n",
        "for key, value in mobile_data.items():\n",
        "  if key == \"Mobileid\":\n",
        "    mobile_specs.append((key, value))\n",
        "\n",
        "\n",
        "\n",
        "\n",
        "for i in mobile_specs:\n",
        "  print (i)"
      ],
      "metadata": {
        "colab": {
          "base_uri": "https://localhost:8080/"
        },
        "id": "vC4DdcuIHwIF",
        "outputId": "019e42be-0b5c-4b09-f8c8-af2d9a675bf4"
      },
      "execution_count": null,
      "outputs": [
        {
          "output_type": "stream",
          "name": "stdout",
          "text": [
            "('Imei', 12344567777)\n",
            "('Model', 'Apple 12')\n",
            "('OS Version', 17.0)\n",
            "('Country', 'us')\n",
            "('Product_name', 'iphone 12')\n",
            "('Mobileid', 23)\n"
          ]
        }
      ]
    },
    {
      "cell_type": "code",
      "source": [],
      "metadata": {
        "id": "jzo69oSPNDYi"
      },
      "execution_count": null,
      "outputs": []
    }
  ]
}