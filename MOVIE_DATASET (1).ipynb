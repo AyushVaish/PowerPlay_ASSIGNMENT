{
  "nbformat": 4,
  "nbformat_minor": 0,
  "metadata": {
    "colab": {
      "provenance": []
    },
    "kernelspec": {
      "name": "python3",
      "display_name": "Python 3"
    },
    "language_info": {
      "name": "python"
    }
  },
  "cells": [
    {
      "cell_type": "code",
      "execution_count": null,
      "metadata": {
        "id": "LOQq_K_ZI_cz"
      },
      "outputs": [],
      "source": [
        "import pandas as pd\n",
        "import sqlite3"
      ]
    },
    {
      "cell_type": "code",
      "source": [
        "df = pd.read_csv(\"https://raw.githubusercontent.com/rashida048/Datasets/master/movie_dataset.csv\")"
      ],
      "metadata": {
        "id": "WpuRVz5TJHm3"
      },
      "execution_count": null,
      "outputs": []
    },
    {
      "cell_type": "code",
      "source": [
        "df['runtime'] = pd.to_numeric(df['runtime'], errors='coerce')\n",
        "#converting column to numeric and removing all non numeric data,in case of wrong data entry\n",
        "\n",
        "df = df[(df['runtime'] != 0)] #removing 0 values\n",
        "\n",
        "df.dropna(subset=['runtime'], inplace=True) #removing null values\n",
        "\n",
        "df = df[df['runtime'].astype(int) == df['runtime']] #removing non integer values\n",
        "\n"
      ],
      "metadata": {
        "id": "CBDcMywLZ3NK"
      },
      "execution_count": null,
      "outputs": []
    },
    {
      "cell_type": "code",
      "source": [
        "conn = sqlite3.connect('movies.db')"
      ],
      "metadata": {
        "id": "F911Cq94JLOb"
      },
      "execution_count": null,
      "outputs": []
    },
    {
      "cell_type": "code",
      "source": [
        "df.to_sql('Movie', conn, if_exists='replace', index=False)"
      ],
      "metadata": {
        "colab": {
          "base_uri": "https://localhost:8080/"
        },
        "id": "lKltlFnNJPrR",
        "outputId": "1efd5527-43ca-4a74-db53-a9aaf4e5363c"
      },
      "execution_count": null,
      "outputs": [
        {
          "output_type": "execute_result",
          "data": {
            "text/plain": [
              "4766"
            ]
          },
          "metadata": {},
          "execution_count": 5
        }
      ]
    },
    {
      "cell_type": "code",
      "source": [
        "cursor = conn.cursor()"
      ],
      "metadata": {
        "id": "-bjtVuU6J_b3"
      },
      "execution_count": null,
      "outputs": []
    },
    {
      "cell_type": "code",
      "source": [
        "query = \"SELECT title,runtime FROM (SELECT *,DENSE_RANK()OVER(ORDER BY runtime DESC) AS 'RANK' FROM Movie) WHERE RANK = 1\"\n",
        "cursor.execute(query)\n",
        "result = cursor.fetchone()\n",
        "print(f\"Movie with the highest runtime : {result[0]} , with runtime : {result[1]} minutes\")"
      ],
      "metadata": {
        "colab": {
          "base_uri": "https://localhost:8080/"
        },
        "id": "w4ZsvVDbKbQb",
        "outputId": "b4c8ea25-3718-4e61-dfff-64be2ece2eaf"
      },
      "execution_count": null,
      "outputs": [
        {
          "output_type": "stream",
          "name": "stdout",
          "text": [
            "Movie with the highest runtime : Carlos , with runtime : 338.0 minutes\n"
          ]
        }
      ]
    },
    {
      "cell_type": "code",
      "source": [
        "query = \"SELECT title,runtime FROM (SELECT *,DENSE_RANK()OVER(ORDER BY runtime ASC) AS 'RANK' FROM Movie) WHERE RANK = 1\"\n",
        "cursor.execute(query)\n",
        "result = cursor.fetchone()\n",
        "print(f\"Movie with the highest runtime : {result[0]} , with runtime : {result[1]} minutes\")"
      ],
      "metadata": {
        "colab": {
          "base_uri": "https://localhost:8080/"
        },
        "id": "5-lVx8LYLviR",
        "outputId": "9af05f28-a731-4f8d-885c-2a0b062fb686"
      },
      "execution_count": null,
      "outputs": [
        {
          "output_type": "stream",
          "name": "stdout",
          "text": [
            "Movie with the highest runtime : Vessel , with runtime : 14.0 minutes\n"
          ]
        }
      ]
    },
    {
      "cell_type": "code",
      "source": [
        "data1 = df.groupby([\"production_companies\"])[[\"budget\"]].sum().reset_index()"
      ],
      "metadata": {
        "id": "hABQ8C9oPVgM"
      },
      "execution_count": null,
      "outputs": []
    },
    {
      "cell_type": "code",
      "source": [
        "To decide between marvel and DC comics, i would use the following metrics -\n",
        "1. Performance of movie based on budget to box office ratio. Will use Feature engineering for the same.\n",
        "2. Year on Year revenue and porfit and also confidence of other investors.\n",
        "3. Further analyzing market trends and audience prefrences will allow to get a better piture of which company is better positioned for future success.\n"
      ],
      "metadata": {
        "id": "5uSI_CC0VyqK"
      },
      "execution_count": null,
      "outputs": []
    }
  ]
}