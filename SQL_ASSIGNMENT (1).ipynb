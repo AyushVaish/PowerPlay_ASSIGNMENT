{
  "nbformat": 4,
  "nbformat_minor": 0,
  "metadata": {
    "colab": {
      "provenance": []
    },
    "kernelspec": {
      "name": "python3",
      "display_name": "Python 3"
    },
    "language_info": {
      "name": "python"
    }
  },
  "cells": [
    {
      "cell_type": "code",
      "execution_count": null,
      "metadata": {
        "id": "3Ev_YNj5bHQe"
      },
      "outputs": [],
      "source": [
        "SELECT a.UserId, a.InstallDate, a.Role, a.OrgID\n",
        "\n",
        "FROM Table1 a\n",
        "\n",
        "INNER JOIN (\n",
        "\n",
        "    SELECT UserId, MAX(InstallDate) AS \"MOST_RECENT\"\n",
        "\n",
        "    FROM Table1\n",
        "\n",
        "    GROUP BY UserId\n",
        "\n",
        " ) b ON a.UserId = b.UserId AND a.InstallDate = b.MOSTRECENT       #Finding user's latest entry using subquery and join"
      ]
    },
    {
      "cell_type": "code",
      "source": [
        "SELECT UserId, InstallDate, Role, OrgID\n",
        "\n",
        "FROM (\n",
        "\n",
        "    SELECT UserId,Installdate,Role,OrgID,\n",
        "\n",
        "        ROW_NUMBER() OVER (PARTITION BY User_Id ORDER BY Install_Date DESC) AS rn\n",
        "\n",
        "    FROM user_info\n",
        "\n",
        ") a\n",
        "\n",
        "WHERE rn = 1     #Finding user's latest entry using window funtion"
      ],
      "metadata": {
        "id": "-anJUy72fF7s"
      },
      "execution_count": null,
      "outputs": []
    },
    {
      "cell_type": "code",
      "source": [
        "SELECT COUNT(product) AS \"COUNT\"\n",
        "\n",
        "FROM ORDER_TABLE\n",
        "\n",
        "WHERE purchase_datetime BETWEEN '2021-01-01' AND '2021-01-31'\n",
        " ----------------------------------------------------\n",
        "OR\n",
        "-----------------------------------------------------\n",
        "SELECT COUNT(product) AS \"COUNT\"\n",
        "\n",
        "FROM ORDER_TABLE\n",
        "\n",
        "WHERE EXTRACT(YEAR FROM purchase_datetime) = 2021\n",
        "AND EXTRACT(MONTH FROM purchase_datetime) = 1      # Number of products bought in January 2021\n",
        "\n",
        "# Would have used DISTINCT if it was mentioned to count DISTINCT products"
      ],
      "metadata": {
        "id": "QZQavq01gLlv"
      },
      "execution_count": null,
      "outputs": []
    },
    {
      "cell_type": "code",
      "source": [
        "SELECT b.user_id,MIN(b.order_id)\n",
        "\n",
        "FROM ORDER_TABLE a\n",
        "JOIN\n",
        "ORDER_TABLE b ON a.user_id = b.user_id AND b.order_id < a.order_id\n",
        "\n",
        "GROUP BY b.user_id # Finding second order id for each user without using window function"
      ],
      "metadata": {
        "id": "0mJwjKX7jYGv"
      },
      "execution_count": null,
      "outputs": []
    },
    {
      "cell_type": "code",
      "source": [
        "WITH CTE AS (\n",
        "    SELECT\n",
        "        user_id,\n",
        "        order_id,\n",
        "        purchase_datetime,\n",
        "        LAG(purchase_datetime) OVER (PARTITION BY user_id ORDER BY purchase_datetime) AS \"PREV\"\n",
        "    FROM ORDER_TABLE\n",
        ")\n",
        "SELECT\n",
        "    user_id,\n",
        "    MIN(DATEDIFF(purchase_datetime, prev_purchase_datetime)) AS \"MIN_TIME\",\n",
        "    MAX(DATEDIFF(purchase_datetime, prev_purchase_datetime)) AS \"MAX_TIME\",\n",
        "    AVG(DATEDIFF(purchase_datetime, prev_purchase_datetime)) AS \"AVG_TIME\"\n",
        "\n",
        "FROM  ORDER_TABLE\n",
        "\n",
        "GROUP BY user_id #Finding min, max and average time between two orders for any user"
      ],
      "metadata": {
        "id": "5BaNdHbDquy5"
      },
      "execution_count": null,
      "outputs": []
    },
    {
      "cell_type": "code",
      "source": [],
      "metadata": {
        "id": "rxlBYEckr86u"
      },
      "execution_count": null,
      "outputs": []
    }
  ]
}