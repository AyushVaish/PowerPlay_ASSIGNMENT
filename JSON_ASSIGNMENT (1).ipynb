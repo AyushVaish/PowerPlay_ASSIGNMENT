{
  "nbformat": 4,
  "nbformat_minor": 0,
  "metadata": {
    "colab": {
      "provenance": []
    },
    "kernelspec": {
      "name": "python3",
      "display_name": "Python 3"
    },
    "language_info": {
      "name": "python"
    }
  },
  "cells": [
    {
      "cell_type": "code",
      "execution_count": 1,
      "metadata": {
        "id": "CgxDKSSzDX0j"
      },
      "outputs": [],
      "source": [
        "mobile_data = {\n",
        "    \"Name\": \"xyz\",\n",
        "    \"Mobile\": \"Iphone\",\n",
        "    \"Mobileid\": 23,\n",
        "    \"Mapping\": {\n",
        "        \"Imei\": 12344567777,\n",
        "        \"Specification\": {\n",
        "            \"Model\": \"Apple 12\",\n",
        "            \"OS Version\": 17.0,\n",
        "        },\n",
        "        \"Country\": \"us\",\n",
        "        \"Product_name\": \"iphone 12\"\n",
        "    }\n",
        "}"
      ]
    },
    {
      "cell_type": "code",
      "source": [
        "mobile_specs = []\n",
        "\n",
        "mapping = mobile_data[\"Mapping\"]\n",
        "\n",
        "\n",
        "\n",
        "for key, value in mapping.items():\n",
        "  if key == \"Imei\":\n",
        "            mobile_specs.append((key, value))\n",
        "\n",
        "for key, value in mobile_data[\"Mapping\"][\"Specification\"].items():\n",
        "  if key == \"Model\" or key == \"OS Version\":\n",
        "            mobile_specs.append((key, value))\n",
        "\n",
        "for key, value in mapping.items():\n",
        "  if key == \"Country\":\n",
        "            mobile_specs.append((key, value))\n",
        "\n",
        "for key, value in mobile_data[\"Mapping\"].items():\n",
        "  if key == \"Product_name\" :\n",
        "    mobile_specs.append((key, value))\n",
        "\n",
        "for key, value in mobile_data.items():\n",
        "  if key == \"Mobileid\":\n",
        "    mobile_specs.append((key, value))\n",
        "\n",
        "\n",
        "\n",
        "\n",
        "for i in mobile_specs:\n",
        "  print (i)"
      ],
      "metadata": {
        "colab": {
          "base_uri": "https://localhost:8080/"
        },
        "id": "vC4DdcuIHwIF",
        "outputId": "024741a7-d014-4707-c348-28e89b8fcc58"
      },
      "execution_count": 2,
      "outputs": [
        {
          "output_type": "stream",
          "name": "stdout",
          "text": [
            "('Imei', 12344567777)\n",
            "('Model', 'Apple 12')\n",
            "('OS Version', 17.0)\n",
            "('Country', 'us')\n",
            "('Product_name', 'iphone 12')\n",
            "('Mobileid', 23)\n"
          ]
        }
      ]
    },
    {
      "cell_type": "code",
      "source": [],
      "metadata": {
        "id": "jzo69oSPNDYi"
      },
      "execution_count": null,
      "outputs": []
    }
  ]
}